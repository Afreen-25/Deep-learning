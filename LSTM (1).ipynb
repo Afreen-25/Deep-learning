{
  "cells": [
    {
      "cell_type": "markdown",
      "source": [
        "## LSTM Experiment\n",
        "Insert Code wherever represented with \"#***************#\""
      ],
      "metadata": {
        "id": "Qtdo2Tl5yAJN"
      }
    },
    {
      "cell_type": "code",
      "execution_count": 5,
      "metadata": {
        "id": "-HQmhSkD10dq"
      },
      "outputs": [],
      "source": [
        "import numpy\n",
        "from keras.datasets import imdb\n",
        "from keras.models import Sequential\n",
        "from keras.layers import Dense\n",
        "from keras.layers import LSTM\n",
        "from keras.layers import Embedding\n",
        "from keras.preprocessing import sequence\n",
        "from keras.preprocessing.sequence import pad_sequences\n",
        "\n",
        "# fix random seed for reproducibility\n",
        "#numpy.random.seed(7)"
      ]
    },
    {
      "cell_type": "code",
      "execution_count": 6,
      "metadata": {
        "id": "WKKlKKsy3ZeT",
        "colab": {
          "base_uri": "https://localhost:8080/"
        },
        "outputId": "f7e3339c-2108-408c-d39b-6d72686ad803"
      },
      "outputs": [
        {
          "output_type": "stream",
          "name": "stdout",
          "text": [
            "Downloading data from https://storage.googleapis.com/tensorflow/tf-keras-datasets/imdb.npz\n",
            "17464789/17464789 [==============================] - 0s 0us/step\n"
          ]
        }
      ],
      "source": [
        "top_words = 5000\n",
        "\"\"\"\n",
        "    Load the IMDB Movie Review dataset and train them into train and split from imdb.load_dataset\n",
        "    Also mention the num_words parameter as top_words\n",
        "\"\"\"\n",
        "#********************#\n",
        "(X_train, y_train), (X_test, y_test)=imdb.load_data(num_words=top_words)\n"
      ]
    },
    {
      "cell_type": "code",
      "execution_count": 7,
      "metadata": {
        "id": "oILf-5_z3a35",
        "outputId": "bd8a6a5c-6397-4b40-fc53-ff2d313f32fe",
        "colab": {
          "base_uri": "https://localhost:8080/"
        }
      },
      "outputs": [
        {
          "output_type": "stream",
          "name": "stdout",
          "text": [
            "[1, 194, 1153, 194, 2, 78, 228, 5, 6, 1463, 4369, 2, 134, 26, 4, 715, 8, 118, 1634, 14, 394, 20, 13, 119, 954, 189, 102, 5, 207, 110, 3103, 21, 14, 69, 188, 8, 30, 23, 7, 4, 249, 126, 93, 4, 114, 9, 2300, 1523, 5, 647, 4, 116, 9, 35, 2, 4, 229, 9, 340, 1322, 4, 118, 9, 4, 130, 4901, 19, 4, 1002, 5, 89, 29, 952, 46, 37, 4, 455, 9, 45, 43, 38, 1543, 1905, 398, 4, 1649, 26, 2, 5, 163, 11, 3215, 2, 4, 1153, 9, 194, 775, 7, 2, 2, 349, 2637, 148, 605, 2, 2, 15, 123, 125, 68, 2, 2, 15, 349, 165, 4362, 98, 5, 4, 228, 9, 43, 2, 1157, 15, 299, 120, 5, 120, 174, 11, 220, 175, 136, 50, 9, 4373, 228, 2, 5, 2, 656, 245, 2350, 5, 4, 2, 131, 152, 491, 18, 2, 32, 2, 1212, 14, 9, 6, 371, 78, 22, 625, 64, 1382, 9, 8, 168, 145, 23, 4, 1690, 15, 16, 4, 1355, 5, 28, 6, 52, 154, 462, 33, 89, 78, 285, 16, 145, 95]\n",
            "<class 'list'>\n",
            "189\n",
            "0\n",
            "<class 'numpy.int64'>\n"
          ]
        }
      ],
      "source": [
        "print(X_train[1])\n",
        "print(type(X_train[1]))\n",
        "print(len(X_train[1]))\n",
        "print(y_train[1])\n",
        "print(type(y_train[1]))"
      ]
    },
    {
      "cell_type": "code",
      "execution_count": 8,
      "metadata": {
        "id": "J9OUayrQ3cBJ",
        "outputId": "015671b9-81fc-4618-9247-96a606706007",
        "colab": {
          "base_uri": "https://localhost:8080/"
        }
      },
      "outputs": [
        {
          "output_type": "stream",
          "name": "stdout",
          "text": [
            "(25000, 400)\n",
            "[   0    0    0    0    0    0    0    0    0    0    0    0    0    0\n",
            "    0    0    0    0    0    0    0    0    0    0    0    0    0    0\n",
            "    0    0    0    0    0    0    0    0    0    0    0    0    0    0\n",
            "    0    0    0    0    0    0    0    0    0    0    0    0    0    0\n",
            "    0    0    0    0    0    0    0    0    0    0    0    0    0    0\n",
            "    0    0    0    0    0    0    0    0    0    0    0    0    0    0\n",
            "    0    0    0    0    0    0    0    0    0    0    0    0    0    0\n",
            "    0    0    0    0    0    0    0    0    0    0    0    0    0    0\n",
            "    0    0    0    0    0    0    0    0    0    0    0    0    0    0\n",
            "    0    0    0    0    0    0    0    0    0    0    0    0    0    0\n",
            "    0    0    0    0    0    0    0    0    0    0    0    0    0    0\n",
            "    0    0    0    0    0    0    0    0    0    0    0    0    0    0\n",
            "    0    0    0    0    0    0    0    0    0    0    0    0    0    0\n",
            "    0    0    0    0    0    0    0    0    0    0    0    0    0    0\n",
            "    0    0    0    0    0    0    0    0    0    0    0    0    0    0\n",
            "    0    1  194 1153  194    2   78  228    5    6 1463 4369    2  134\n",
            "   26    4  715    8  118 1634   14  394   20   13  119  954  189  102\n",
            "    5  207  110 3103   21   14   69  188    8   30   23    7    4  249\n",
            "  126   93    4  114    9 2300 1523    5  647    4  116    9   35    2\n",
            "    4  229    9  340 1322    4  118    9    4  130 4901   19    4 1002\n",
            "    5   89   29  952   46   37    4  455    9   45   43   38 1543 1905\n",
            "  398    4 1649   26    2    5  163   11 3215    2    4 1153    9  194\n",
            "  775    7    2    2  349 2637  148  605    2    2   15  123  125   68\n",
            "    2    2   15  349  165 4362   98    5    4  228    9   43    2 1157\n",
            "   15  299  120    5  120  174   11  220  175  136   50    9 4373  228\n",
            "    2    5    2  656  245 2350    5    4    2  131  152  491   18    2\n",
            "   32    2 1212   14    9    6  371   78   22  625   64 1382    9    8\n",
            "  168  145   23    4 1690   15   16    4 1355    5   28    6   52  154\n",
            "  462   33   89   78  285   16  145   95]\n"
          ]
        }
      ],
      "source": [
        "# truncate and/or pad input sequences\n",
        "max_review_length = 400\n",
        "\"\"\"\n",
        "    Apply padding to both X_train and x_test variables with above mentioned max_review_length\n",
        "\"\"\"\n",
        "X_train = pad_sequences(X_train, max_review_length)\n",
        "X_test =pad_sequences(X_test, max_review_length)\n",
        "\n",
        "print(X_train.shape)\n",
        "print(X_train[1])"
      ]
    },
    {
      "cell_type": "code",
      "execution_count": 9,
      "metadata": {
        "id": "G1_PRdMR3dpx"
      },
      "outputs": [],
      "source": [
        "import tensorflow as tf\n",
        "# Create the model\n",
        "\n",
        "embedding_vector_length = 32\n",
        "\n",
        "\"\"\"\n",
        "    Create LSTM Model using following Layers:\n",
        "    1. Embedding Layer\n",
        "    2. LSTM with 10 neurons\n",
        "    3. Dense Layer with sigmoid activation for Output\n",
        "\"\"\"\n",
        "model = Sequential()\n",
        "model.add(Embedding(top_words+1, embedding_vector_length, input_length=max_review_length))\n",
        "model.add(LSTM(10))\n",
        "model.add(Dense(1, activation='sigmoid'))"
      ]
    },
    {
      "cell_type": "code",
      "source": [
        "\"\"\"\n",
        "    Compile the model using following criteria:\n",
        "    compile(loss, optimizer, metrics=['accuracy'])\n",
        "\"\"\"\n",
        "#********************#\n",
        "model.compile(loss='binary_crossentropy', optimizer='adam', metrics=['accuracy'])\n",
        "model.summary()"
      ],
      "metadata": {
        "id": "kfvU5KSlMLrL",
        "colab": {
          "base_uri": "https://localhost:8080/"
        },
        "outputId": "6cf221ff-aab6-41ae-b45f-ae342b10dcb3"
      },
      "execution_count": 10,
      "outputs": [
        {
          "output_type": "stream",
          "name": "stdout",
          "text": [
            "Model: \"sequential\"\n",
            "_________________________________________________________________\n",
            " Layer (type)                Output Shape              Param #   \n",
            "=================================================================\n",
            " embedding (Embedding)       (None, 400, 32)           160032    \n",
            "                                                                 \n",
            " lstm (LSTM)                 (None, 10)                1720      \n",
            "                                                                 \n",
            " dense (Dense)               (None, 1)                 11        \n",
            "                                                                 \n",
            "=================================================================\n",
            "Total params: 161763 (631.89 KB)\n",
            "Trainable params: 161763 (631.89 KB)\n",
            "Non-trainable params: 0 (0.00 Byte)\n",
            "_________________________________________________________________\n"
          ]
        }
      ]
    },
    {
      "cell_type": "code",
      "execution_count": 11,
      "metadata": {
        "id": "RSY2soKK3fux",
        "outputId": "435f11a9-2ac7-4367-c181-7053b70e7f8e",
        "colab": {
          "base_uri": "https://localhost:8080/"
        }
      },
      "outputs": [
        {
          "output_type": "stream",
          "name": "stdout",
          "text": [
            "Epoch 1/10\n",
            "98/98 [==============================] - 39s 371ms/step - loss: 0.6362 - accuracy: 0.6627 - val_loss: 0.4806 - val_accuracy: 0.7952\n",
            "Epoch 2/10\n",
            "98/98 [==============================] - 35s 363ms/step - loss: 0.3984 - accuracy: 0.8355 - val_loss: 0.3761 - val_accuracy: 0.8437\n",
            "Epoch 3/10\n",
            "98/98 [==============================] - 38s 388ms/step - loss: 0.3073 - accuracy: 0.8805 - val_loss: 0.3189 - val_accuracy: 0.8708\n",
            "Epoch 4/10\n",
            "98/98 [==============================] - 41s 416ms/step - loss: 0.2484 - accuracy: 0.9080 - val_loss: 0.3067 - val_accuracy: 0.8754\n",
            "Epoch 5/10\n",
            "98/98 [==============================] - 51s 522ms/step - loss: 0.2236 - accuracy: 0.9189 - val_loss: 0.3058 - val_accuracy: 0.8758\n",
            "Epoch 6/10\n",
            "98/98 [==============================] - 34s 353ms/step - loss: 0.2050 - accuracy: 0.9264 - val_loss: 0.3178 - val_accuracy: 0.8737\n",
            "Epoch 7/10\n",
            "98/98 [==============================] - 40s 410ms/step - loss: 0.1824 - accuracy: 0.9358 - val_loss: 0.3346 - val_accuracy: 0.8736\n",
            "Epoch 8/10\n",
            "98/98 [==============================] - 36s 368ms/step - loss: 0.1695 - accuracy: 0.9414 - val_loss: 0.3381 - val_accuracy: 0.8716\n",
            "Epoch 9/10\n",
            "98/98 [==============================] - 36s 369ms/step - loss: 0.1570 - accuracy: 0.9474 - val_loss: 0.3527 - val_accuracy: 0.8704\n",
            "Epoch 10/10\n",
            "98/98 [==============================] - 36s 373ms/step - loss: 0.1439 - accuracy: 0.9524 - val_loss: 0.3543 - val_accuracy: 0.8702\n",
            "Accuracy: 87.02%\n"
          ]
        }
      ],
      "source": [
        "hist=model.fit(X_train, y_train, epochs=10, batch_size=256,verbose=1, validation_data=(X_test,y_test))\n",
        "\n",
        "# Final evaluation of the model\n",
        "scores = model.evaluate(X_test, y_test, verbose=0)\n",
        "\n",
        "\n",
        "\"\"\"\n",
        "    Print Accuracy acheived by model using the above created scores variable\n",
        "\"\"\"\n",
        "print(\"Accuracy: %.2f%%\" % (scores[1]*100))"
      ]
    },
    {
      "cell_type": "code",
      "execution_count": 15,
      "metadata": {
        "id": "qk75Y2oLxvgG",
        "colab": {
          "base_uri": "https://localhost:8080/",
          "height": 472
        },
        "outputId": "5dd04472-f493-4339-d73b-c6df457b0401"
      },
      "outputs": [
        {
          "output_type": "display_data",
          "data": {
            "text/plain": [
              "<Figure size 640x480 with 1 Axes>"
            ],
            "image/png": "[encoded data removed]"
          },
          "metadata": {}
        }
      ],
      "source": [
        "import matplotlib.pyplot as plt\n",
        "\n",
        "# Assuming hist is a history object from model training\n",
        "# If it's a dictionary, make sure to access the correct keys\n",
        "\n",
        "\"\"\"\n",
        "    Plot graph between epoch vs Accuracy\n",
        "\"\"\"\n",
        "#********************#\n",
        "y1 = hist.history['accuracy']\n",
        "y2 = hist.history['val_accuracy']\n",
        "plt.plot(y1, label='training')\n",
        "plt.plot(y2, label='testing')\n",
        "plt.xlabel('Epochs')\n",
        "plt.ylabel('Accuracy')\n",
        "plt.title('Training and Validation Accuracy over Epochs')\n",
        "plt.legend()\n",
        "plt.show()\n"
      ]
    },
    {
      "cell_type": "code",
      "source": [
        "import matplotlib.pyplot as plt\n",
        "\n",
        "# Assuming hist is a history object from model training\n",
        "# If it's a dictionary, make sure to access the correct keys\n",
        "\n",
        "\"\"\"\n",
        "    Plot graph between epoch vs loss\n",
        "\"\"\"\n",
        "#********************#\n",
        "z1 = hist.history['loss']\n",
        "z2 = hist.history['val_loss']\n",
        "plt.plot(z1, label='Train Loss')\n",
        "plt.plot(z2, label='Validation Loss')\n",
        "plt.xlabel('Epochs')\n",
        "plt.ylabel('Loss')\n",
        "plt.legend()\n",
        "plt.show()\n"
      ],
      "metadata": {
        "id": "MnLtrd2cPKKl",
        "colab": {
          "base_uri": "https://localhost:8080/",
          "height": 449
        },
        "outputId": "51a81a92-95fe-45ec-c0e7-e13cda266e55"
      },
      "execution_count": 19,
      "outputs": [
        {
          "output_type": "display_data",
          "data": {
            "text/plain": [
              "<Figure size 640x480 with 1 Axes>"
            ],
            "image/png": "[encoded data removed]"
          },
          "metadata": {}
        }
      ]
    },
    {
      "cell_type": "code",
      "execution_count": 20,
      "metadata": {
        "id": "ljHLeFMbxvgH",
        "colab": {
          "base_uri": "https://localhost:8080/"
        },
        "outputId": "8689d794-a7ff-4ca4-b500-9f5c74b3ab2a"
      },
      "outputs": [
        {
          "output_type": "stream",
          "name": "stdout",
          "text": [
            "782/782 [==============================] - 27s 34ms/step\n",
            "[[0.04480258]\n",
            " [0.9883138 ]\n",
            " [0.92644346]\n",
            " ...\n",
            " [0.05261699]\n",
            " [0.03824428]\n",
            " [0.8392428 ]]\n"
          ]
        }
      ],
      "source": [
        "pred=model.predict(X_test)\n",
        "print(pred)"
      ]
    },
    {
      "cell_type": "code",
      "source": [],
      "metadata": {
        "id": "hW4Sqmh7NBIZ"
      },
      "execution_count": null,
      "outputs": []
    }
  ],
  "metadata": {
    "colab": {
      "provenance": []
    },
    "kernelspec": {
      "display_name": "Python 3 (ipykernel)",
      "language": "python",
      "name": "python3"
    },
    "language_info": {
      "codemirror_mode": {
        "name": "ipython",
        "version": 3
      },
      "file_extension": ".py",
      "mimetype": "text/x-python",
      "name": "python",
      "nbconvert_exporter": "python",
      "pygments_lexer": "ipython3",
      "version": "3.10.0"
    }
  },
  "nbformat": 4,
  "nbformat_minor": 0
}